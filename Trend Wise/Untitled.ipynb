{
 "cells": [
  {
   "cell_type": "code",
   "execution_count": 1,
   "id": "d40c8296-2fb5-4ca1-8bc4-718e77148971",
   "metadata": {},
   "outputs": [
    {
     "ename": "ModuleNotFoundError",
     "evalue": "No module named 'seaborn'",
     "output_type": "error",
     "traceback": [
      "\u001b[1;31m---------------------------------------------------------------------------\u001b[0m",
      "\u001b[1;31mModuleNotFoundError\u001b[0m                       Traceback (most recent call last)",
      "Cell \u001b[1;32mIn[1], line 3\u001b[0m\n\u001b[0;32m      1\u001b[0m \u001b[38;5;28;01mimport\u001b[39;00m \u001b[38;5;21;01mpandas\u001b[39;00m \u001b[38;5;28;01mas\u001b[39;00m \u001b[38;5;21;01mpd\u001b[39;00m\n\u001b[0;32m      2\u001b[0m \u001b[38;5;28;01mimport\u001b[39;00m \u001b[38;5;21;01mmatplotlib\u001b[39;00m\u001b[38;5;21;01m.\u001b[39;00m\u001b[38;5;21;01mpyplot\u001b[39;00m \u001b[38;5;28;01mas\u001b[39;00m \u001b[38;5;21;01mplt\u001b[39;00m\n\u001b[1;32m----> 3\u001b[0m \u001b[38;5;28;01mimport\u001b[39;00m \u001b[38;5;21;01mseaborn\u001b[39;00m \u001b[38;5;28;01mas\u001b[39;00m \u001b[38;5;21;01msns\u001b[39;00m\n\u001b[0;32m      4\u001b[0m \u001b[38;5;28;01mimport\u001b[39;00m \u001b[38;5;21;01mmysql\u001b[39;00m\u001b[38;5;21;01m.\u001b[39;00m\u001b[38;5;21;01mconnector\u001b[39;00m\n\u001b[0;32m      6\u001b[0m \u001b[38;5;66;03m# Connect to MySQL database\u001b[39;00m\n",
      "\u001b[1;31mModuleNotFoundError\u001b[0m: No module named 'seaborn'"
     ]
    }
   ],
   "source": [
    "import pandas as pd\n",
    "import matplotlib.pyplot as plt\n",
    "import seaborn as sns\n",
    "import mysql.connector\n",
    "\n",
    "# Connect to MySQL database\n",
    "connection = mysql.connector.connect(\n",
    "    host=\"localHost\",\n",
    "    user=\"root\",\n",
    "    password=\"Sonji@2534\",\n",
    "    database=\"Hackathon\"\n",
    ")\n",
    "\n",
    "# Define the SQL query to fetch data\n",
    "query = \"SELECT * FROM crime_data_trend\"\n",
    "\n",
    "# Fetch data into a DataFrame\n",
    "crime_df = pd.read_sql(query, connection)\n",
    "\n",
    "# Close the database connection\n",
    "connection.close()\n",
    "\n",
    "# Assuming your dataset has a datetime column named 'date_time'\n",
    "crime_df['date_time'] = pd.to_datetime(crime_df['date_time'])\n",
    "\n",
    "# Extract features like hour, day of the week, month, and season\n",
    "crime_df['hour'] = crime_df['date_time'].dt.hour\n",
    "crime_df['day_of_week'] = crime_df['date_time'].dt.dayofweek\n",
    "crime_df['month'] = crime_df['date_time'].dt.month\n",
    "crime_df['season'] = (crime_df['date_time'].dt.month % 12 + 3) // 3\n",
    "\n",
    "# Plot the trend of crime occurrence by hour\n",
    "plt.figure(figsize=(10, 6))\n",
    "sns.countplot(x='hour', data=crime_df, palette='muted')\n",
    "plt.title('Crime Occurrence by Hour')\n",
    "plt.xlabel('Hour of the Day')\n",
    "plt.ylabel('Number of Crimes')\n",
    "plt.show()\n",
    "\n",
    "# Plot the trend of crime occurrence by day of the week\n",
    "plt.figure(figsize=(10, 6))\n",
    "sns.countplot(x='day_of_week', data=crime_df, palette='muted')\n",
    "plt.title('Crime Occurrence by Day of the Week')\n",
    "plt.xlabel('Day of the Week (0=Monday, 6=Sunday)')\n",
    "plt.ylabel('Number of Crimes')\n",
    "plt.show()\n",
    "\n",
    "# Plot the trend of crime occurrence by month\n",
    "plt.figure(figsize=(10, 6))\n",
    "sns.countplot(x='month', data=crime_df, palette='muted')\n",
    "plt.title('Crime Occurrence by Month')\n",
    "plt.xlabel('Month')\n",
    "plt.ylabel('Number of Crimes')\n",
    "plt.show()\n",
    "\n",
    "# Plot the trend of crime occurrence by season\n",
    "plt.figure(figsize=(10, 6))\n",
    "sns.countplot(x='season', data=crime_df, palette='muted')\n",
    "plt.title('Crime Occurrence by Season')\n",
    "plt.xlabel('Season (1=Winter, 2=Spring, 3=Summer, 4=Autumn)')\n",
    "plt.ylabel('Number of Crimes')\n",
    "plt.show()\n"
   ]
  },
  {
   "cell_type": "code",
   "execution_count": null,
   "id": "f7878020-d960-48a2-9b51-9b8bfff344f9",
   "metadata": {},
   "outputs": [],
   "source": []
  }
 ],
 "metadata": {
  "kernelspec": {
   "display_name": "Python 3 (ipykernel)",
   "language": "python",
   "name": "python3"
  },
  "language_info": {
   "codemirror_mode": {
    "name": "ipython",
    "version": 3
   },
   "file_extension": ".py",
   "mimetype": "text/x-python",
   "name": "python",
   "nbconvert_exporter": "python",
   "pygments_lexer": "ipython3",
   "version": "3.12.2"
  }
 },
 "nbformat": 4,
 "nbformat_minor": 5
}
